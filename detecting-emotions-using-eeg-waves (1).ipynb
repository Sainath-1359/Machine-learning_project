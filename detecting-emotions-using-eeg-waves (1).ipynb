{
 "cells": [
  {
   "cell_type": "markdown",
   "id": "76aeb83b",
   "metadata": {
    "papermill": {
     "duration": 0.019161,
     "end_time": "2021-09-11T14:25:42.203014",
     "exception": false,
     "start_time": "2021-09-11T14:25:42.183853",
     "status": "completed"
    },
    "tags": []
   },
   "source": [
    "![](https://2rdnmg1qbg403gumla1v9i2h-wpengine.netdna-ssl.com/wp-content/uploads/sites/3/2014/04/brainFacts-579411100-770x533-1-745x490.jpg)"
   ]
  },
  {
   "cell_type": "markdown",
   "id": "e922e310",
   "metadata": {
    "papermill": {
     "duration": 0.017834,
     "end_time": "2021-09-11T14:25:42.239257",
     "exception": false,
     "start_time": "2021-09-11T14:25:42.221423",
     "status": "completed"
    },
    "tags": []
   },
   "source": [
    "Problem in hand : Given EEG data from subjects who were watching movies, let's try to predict the emotional state of a subject during a given movie."
   ]
  },
  {
   "cell_type": "markdown",
   "id": "ddc5bc6c",
   "metadata": {
    "papermill": {
     "duration": 0.017897,
     "end_time": "2021-09-11T14:25:42.275244",
     "exception": false,
     "start_time": "2021-09-11T14:25:42.257347",
     "status": "completed"
    },
    "tags": []
   },
   "source": [
    "### Importing necessary libraries"
   ]
  },
  {
   "cell_type": "code",
   "execution_count": 1,
   "id": "108752e9",
   "metadata": {
    "execution": {
     "iopub.execute_input": "2021-09-11T14:25:42.327624Z",
     "iopub.status.busy": "2021-09-11T14:25:42.326839Z",
     "iopub.status.idle": "2021-09-11T14:25:47.682952Z",
     "shell.execute_reply": "2021-09-11T14:25:47.682368Z",
     "shell.execute_reply.started": "2021-09-11T14:00:00.043025Z"
    },
    "papermill": {
     "duration": 5.389818,
     "end_time": "2021-09-11T14:25:47.683135",
     "exception": false,
     "start_time": "2021-09-11T14:25:42.293317",
     "status": "completed"
    },
    "tags": []
   },
   "outputs": [
    {
     "ename": "ModuleNotFoundError",
     "evalue": "No module named 'tensorflow'",
     "output_type": "error",
     "traceback": [
      "\u001b[1;31m---------------------------------------------------------------------------\u001b[0m",
      "\u001b[1;31mModuleNotFoundError\u001b[0m                       Traceback (most recent call last)",
      "Input \u001b[1;32mIn [1]\u001b[0m, in \u001b[0;36m<cell line: 1>\u001b[1;34m()\u001b[0m\n\u001b[1;32m----> 1\u001b[0m \u001b[38;5;28;01mimport\u001b[39;00m \u001b[38;5;21;01mtensorflow\u001b[39;00m\u001b[38;5;21;01m.\u001b[39;00m\u001b[38;5;21;01mcompat\u001b[39;00m\u001b[38;5;21;01m.\u001b[39;00m\u001b[38;5;21;01mv1\u001b[39;00m \u001b[38;5;28;01mas\u001b[39;00m \u001b[38;5;21;01mtf\u001b[39;00m\n\u001b[0;32m      2\u001b[0m \u001b[38;5;28;01mfrom\u001b[39;00m \u001b[38;5;21;01msklearn\u001b[39;00m\u001b[38;5;21;01m.\u001b[39;00m\u001b[38;5;21;01mmetrics\u001b[39;00m \u001b[38;5;28;01mimport\u001b[39;00m confusion_matrix\n\u001b[0;32m      3\u001b[0m \u001b[38;5;28;01mimport\u001b[39;00m \u001b[38;5;21;01mnumpy\u001b[39;00m \u001b[38;5;28;01mas\u001b[39;00m \u001b[38;5;21;01mnp\u001b[39;00m\n",
      "\u001b[1;31mModuleNotFoundError\u001b[0m: No module named 'tensorflow'"
     ]
    }
   ],
   "source": [
    "import tensorflow.compat.v1 as tf\n",
    "from sklearn.metrics import confusion_matrix\n",
    "import numpy as np\n",
    "from scipy.io import loadmat\n",
    "import os\n",
    "from pywt import wavedec\n",
    "from functools import reduce\n",
    "from scipy import signal\n",
    "from scipy.stats import entropy\n",
    "from scipy.fft import fft, ifft\n",
    "import pandas as pd\n",
    "from sklearn.model_selection import train_test_split, StratifiedKFold\n",
    "from sklearn.preprocessing import StandardScaler\n",
    "from tensorflow import keras as K\n",
    "import matplotlib.pyplot as plt\n",
    "import scipy\n",
    "from sklearn import metrics\n",
    "from sklearn.ensemble import RandomForestClassifier\n",
    "from sklearn.neighbors import KNeighborsClassifier\n",
    "from sklearn.svm import SVC\n",
    "from sklearn.metrics import accuracy_score\n",
    "from sklearn.model_selection import KFold,cross_validate\n",
    "from tensorflow.keras.layers import Dense, Activation, Flatten, concatenate, Input, Dropout, LSTM, Bidirectional,BatchNormalization,PReLU,ReLU,Reshape\n",
    "from keras.wrappers.scikit_learn import KerasClassifier\n",
    "from sklearn.metrics import classification_report\n",
    "from tensorflow.keras.models import Sequential, Model, load_model\n",
    "import matplotlib.pyplot as plt;\n",
    "from tensorflow.keras.callbacks import EarlyStopping, ModelCheckpoint\n",
    "from sklearn.decomposition import PCA\n",
    "from sklearn.model_selection import cross_val_score\n",
    "from tensorflow import keras\n",
    "from tensorflow.keras.layers import Conv1D,Conv2D,Add\n",
    "from tensorflow.keras.layers import MaxPool1D, MaxPooling2D\n",
    "import seaborn as sns"
   ]
  },
  {
   "cell_type": "markdown",
   "id": "86e9775a",
   "metadata": {
    "papermill": {
     "duration": 0.017784,
     "end_time": "2021-09-11T14:25:47.719419",
     "exception": false,
     "start_time": "2021-09-11T14:25:47.701635",
     "status": "completed"
    },
    "tags": []
   },
   "source": [
    "### Reading EEG data with feature extracted "
   ]
  },
  {
   "cell_type": "code",
   "execution_count": 2,
   "id": "6e73bd43",
   "metadata": {
    "execution": {
     "iopub.execute_input": "2021-09-11T14:25:47.759545Z",
     "iopub.status.busy": "2021-09-11T14:25:47.758975Z",
     "iopub.status.idle": "2021-09-11T14:25:49.767747Z",
     "shell.execute_reply": "2021-09-11T14:25:49.768277Z",
     "shell.execute_reply.started": "2021-09-11T14:00:05.815409Z"
    },
    "papermill": {
     "duration": 2.03101,
     "end_time": "2021-09-11T14:25:49.768427",
     "exception": false,
     "start_time": "2021-09-11T14:25:47.737417",
     "status": "completed"
    },
    "tags": []
   },
   "outputs": [
    {
     "ename": "NameError",
     "evalue": "name 'pd' is not defined",
     "output_type": "error",
     "traceback": [
      "\u001b[1;31m---------------------------------------------------------------------------\u001b[0m",
      "\u001b[1;31mNameError\u001b[0m                                 Traceback (most recent call last)",
      "Input \u001b[1;32mIn [2]\u001b[0m, in \u001b[0;36m<cell line: 1>\u001b[1;34m()\u001b[0m\n\u001b[1;32m----> 1\u001b[0m data \u001b[38;5;241m=\u001b[39m \u001b[43mpd\u001b[49m\u001b[38;5;241m.\u001b[39mread_csv(\u001b[38;5;124m\"\u001b[39m\u001b[38;5;124m../input/eeg-brainwave-dataset-feeling-emotions/emotions.csv\u001b[39m\u001b[38;5;124m\"\u001b[39m)\n\u001b[0;32m      2\u001b[0m \u001b[38;5;28mprint\u001b[39m(data\u001b[38;5;241m.\u001b[39minfo())\n",
      "\u001b[1;31mNameError\u001b[0m: name 'pd' is not defined"
     ]
    }
   ],
   "source": [
    "data = pd.read_csv(\"../input/eeg-brainwave-dataset-feeling-emotions/emotions.csv\")\n",
    "print(data.info())"
   ]
  },
  {
   "cell_type": "code",
   "execution_count": 3,
   "id": "8c0a18c5",
   "metadata": {
    "execution": {
     "iopub.execute_input": "2021-09-11T14:25:49.815600Z",
     "iopub.status.busy": "2021-09-11T14:25:49.814860Z",
     "iopub.status.idle": "2021-09-11T14:25:49.852929Z",
     "shell.execute_reply": "2021-09-11T14:25:49.853365Z",
     "shell.execute_reply.started": "2021-09-11T14:00:08.020231Z"
    },
    "papermill": {
     "duration": 0.065724,
     "end_time": "2021-09-11T14:25:49.853501",
     "exception": false,
     "start_time": "2021-09-11T14:25:49.787777",
     "status": "completed"
    },
    "tags": []
   },
   "outputs": [
    {
     "ename": "NameError",
     "evalue": "name 'data' is not defined",
     "output_type": "error",
     "traceback": [
      "\u001b[1;31m---------------------------------------------------------------------------\u001b[0m",
      "\u001b[1;31mNameError\u001b[0m                                 Traceback (most recent call last)",
      "Input \u001b[1;32mIn [3]\u001b[0m, in \u001b[0;36m<cell line: 1>\u001b[1;34m()\u001b[0m\n\u001b[1;32m----> 1\u001b[0m \u001b[43mdata\u001b[49m\n",
      "\u001b[1;31mNameError\u001b[0m: name 'data' is not defined"
     ]
    }
   ],
   "source": [
    "data"
   ]
  },
  {
   "cell_type": "markdown",
   "id": "faec73c1",
   "metadata": {
    "papermill": {
     "duration": 0.018746,
     "end_time": "2021-09-11T14:25:49.891343",
     "exception": false,
     "start_time": "2021-09-11T14:25:49.872597",
     "status": "completed"
    },
    "tags": []
   },
   "source": [
    "### Viewing a sample of time series data "
   ]
  },
  {
   "cell_type": "code",
   "execution_count": 4,
   "id": "4e0d0650",
   "metadata": {
    "execution": {
     "iopub.execute_input": "2021-09-11T14:25:49.939814Z",
     "iopub.status.busy": "2021-09-11T14:25:49.938522Z",
     "iopub.status.idle": "2021-09-11T14:25:49.941373Z",
     "shell.execute_reply": "2021-09-11T14:25:49.940932Z",
     "shell.execute_reply.started": "2021-09-11T14:00:08.070564Z"
    },
    "papermill": {
     "duration": 0.03137,
     "end_time": "2021-09-11T14:25:49.941483",
     "exception": false,
     "start_time": "2021-09-11T14:25:49.910113",
     "status": "completed"
    },
    "tags": []
   },
   "outputs": [
    {
     "ename": "NameError",
     "evalue": "name 'data' is not defined",
     "output_type": "error",
     "traceback": [
      "\u001b[1;31m---------------------------------------------------------------------------\u001b[0m",
      "\u001b[1;31mNameError\u001b[0m                                 Traceback (most recent call last)",
      "Input \u001b[1;32mIn [4]\u001b[0m, in \u001b[0;36m<cell line: 1>\u001b[1;34m()\u001b[0m\n\u001b[1;32m----> 1\u001b[0m fft_data \u001b[38;5;241m=\u001b[39m \u001b[43mdata\u001b[49m\u001b[38;5;241m.\u001b[39mloc[:,\u001b[38;5;124m'\u001b[39m\u001b[38;5;124mfft_0_b\u001b[39m\u001b[38;5;124m'\u001b[39m:\u001b[38;5;124m'\u001b[39m\u001b[38;5;124mfft_749_b\u001b[39m\u001b[38;5;124m'\u001b[39m]\n",
      "\u001b[1;31mNameError\u001b[0m: name 'data' is not defined"
     ]
    }
   ],
   "source": [
    "fft_data = data.loc[:,'fft_0_b':'fft_749_b']"
   ]
  },
  {
   "cell_type": "code",
   "execution_count": 5,
   "id": "0e4736e1",
   "metadata": {
    "execution": {
     "iopub.execute_input": "2021-09-11T14:25:49.991679Z",
     "iopub.status.busy": "2021-09-11T14:25:49.984958Z",
     "iopub.status.idle": "2021-09-11T14:25:50.019684Z",
     "shell.execute_reply": "2021-09-11T14:25:50.020105Z",
     "shell.execute_reply.started": "2021-09-11T14:00:08.083654Z"
    },
    "papermill": {
     "duration": 0.060145,
     "end_time": "2021-09-11T14:25:50.020251",
     "exception": false,
     "start_time": "2021-09-11T14:25:49.960106",
     "status": "completed"
    },
    "tags": []
   },
   "outputs": [
    {
     "ename": "NameError",
     "evalue": "name 'fft_data' is not defined",
     "output_type": "error",
     "traceback": [
      "\u001b[1;31m---------------------------------------------------------------------------\u001b[0m",
      "\u001b[1;31mNameError\u001b[0m                                 Traceback (most recent call last)",
      "Input \u001b[1;32mIn [5]\u001b[0m, in \u001b[0;36m<cell line: 1>\u001b[1;34m()\u001b[0m\n\u001b[1;32m----> 1\u001b[0m \u001b[43mfft_data\u001b[49m\n",
      "\u001b[1;31mNameError\u001b[0m: name 'fft_data' is not defined"
     ]
    }
   ],
   "source": [
    "fft_data"
   ]
  },
  {
   "cell_type": "code",
   "execution_count": 6,
   "id": "69c6f5d1",
   "metadata": {
    "execution": {
     "iopub.execute_input": "2021-09-11T14:25:50.063710Z",
     "iopub.status.busy": "2021-09-11T14:25:50.063138Z",
     "iopub.status.idle": "2021-09-11T14:25:50.328857Z",
     "shell.execute_reply": "2021-09-11T14:25:50.329310Z",
     "shell.execute_reply.started": "2021-09-11T14:00:08.126352Z"
    },
    "papermill": {
     "duration": 0.289313,
     "end_time": "2021-09-11T14:25:50.329458",
     "exception": false,
     "start_time": "2021-09-11T14:25:50.040145",
     "status": "completed"
    },
    "tags": []
   },
   "outputs": [
    {
     "ename": "NameError",
     "evalue": "name 'fft_data' is not defined",
     "output_type": "error",
     "traceback": [
      "\u001b[1;31m---------------------------------------------------------------------------\u001b[0m",
      "\u001b[1;31mNameError\u001b[0m                                 Traceback (most recent call last)",
      "Input \u001b[1;32mIn [6]\u001b[0m, in \u001b[0;36m<cell line: 1>\u001b[1;34m()\u001b[0m\n\u001b[1;32m----> 1\u001b[0m \u001b[43mfft_data\u001b[49m\u001b[38;5;241m.\u001b[39miloc[\u001b[38;5;241m0\u001b[39m,:]\u001b[38;5;241m.\u001b[39mplot(figsize\u001b[38;5;241m=\u001b[39m(\u001b[38;5;241m15\u001b[39m,\u001b[38;5;241m10\u001b[39m))\n",
      "\u001b[1;31mNameError\u001b[0m: name 'fft_data' is not defined"
     ]
    }
   ],
   "source": [
    "fft_data.iloc[0,:].plot(figsize=(15,10))"
   ]
  },
  {
   "cell_type": "markdown",
   "id": "8a86bc58",
   "metadata": {
    "papermill": {
     "duration": 0.023594,
     "end_time": "2021-09-11T14:25:50.377084",
     "exception": false,
     "start_time": "2021-09-11T14:25:50.353490",
     "status": "completed"
    },
    "tags": []
   },
   "source": [
    "### Encoding the 3 distinct labels "
   ]
  },
  {
   "cell_type": "markdown",
   "id": "6b76b5e8",
   "metadata": {
    "papermill": {
     "duration": 0.023509,
     "end_time": "2021-09-11T14:25:50.424293",
     "exception": false,
     "start_time": "2021-09-11T14:25:50.400784",
     "status": "completed"
    },
    "tags": []
   },
   "source": [
    "The 3 labels are : \"NEGATIVE\", \"NEUTRAL\" and \"POSITIVE\"."
   ]
  },
  {
   "cell_type": "code",
   "execution_count": 7,
   "id": "577278b1",
   "metadata": {
    "execution": {
     "iopub.execute_input": "2021-09-11T14:25:50.479824Z",
     "iopub.status.busy": "2021-09-11T14:25:50.479241Z",
     "iopub.status.idle": "2021-09-11T14:25:50.482012Z",
     "shell.execute_reply": "2021-09-11T14:25:50.482395Z",
     "shell.execute_reply.started": "2021-09-11T14:00:08.387375Z"
    },
    "papermill": {
     "duration": 0.03453,
     "end_time": "2021-09-11T14:25:50.482524",
     "exception": false,
     "start_time": "2021-09-11T14:25:50.447994",
     "status": "completed"
    },
    "tags": []
   },
   "outputs": [],
   "source": [
    "from sklearn.preprocessing import LabelEncoder\n",
    "le = LabelEncoder()\n",
    "data['label']=le.fit_transform(data['label'])"
   ]
  },
  {
   "cell_type": "markdown",
   "id": "bf7efd48",
   "metadata": {
    "papermill": {
     "duration": 0.023602,
     "end_time": "2021-09-11T14:25:50.529934",
     "exception": false,
     "start_time": "2021-09-11T14:25:50.506332",
     "status": "completed"
    },
    "tags": []
   },
   "source": [
    "### Defining necessary features for model training. "
   ]
  },
  {
   "cell_type": "code",
   "execution_count": 8,
   "id": "8a861459",
   "metadata": {
    "execution": {
     "iopub.execute_input": "2021-09-11T14:25:50.584582Z",
     "iopub.status.busy": "2021-09-11T14:25:50.583577Z",
     "iopub.status.idle": "2021-09-11T14:25:50.631351Z",
     "shell.execute_reply": "2021-09-11T14:25:50.630819Z",
     "shell.execute_reply.started": "2021-09-11T14:00:08.398771Z"
    },
    "papermill": {
     "duration": 0.077158,
     "end_time": "2021-09-11T14:25:50.631472",
     "exception": false,
     "start_time": "2021-09-11T14:25:50.554314",
     "status": "completed"
    },
    "tags": []
   },
   "outputs": [],
   "source": [
    "y = data.pop('label')\n",
    "X = data\n",
    "X_train, X_test, y_train, y_test = train_test_split(X, y, train_size=0.7, random_state=48)\n",
    "X_train = np.array(X_train).reshape((X_train.shape[0],X_train.shape[1],1))\n",
    "X_test = np.array(X_test).reshape((X_test.shape[0],X_test.shape[1],1))\n",
    "y_train = pd.get_dummies(y_train)\n",
    "y_test = pd.get_dummies(y_test)"
   ]
  },
  {
   "cell_type": "markdown",
   "id": "5dda8ddb",
   "metadata": {
    "papermill": {
     "duration": 0.023568,
     "end_time": "2021-09-11T14:25:50.679366",
     "exception": false,
     "start_time": "2021-09-11T14:25:50.655798",
     "status": "completed"
    },
    "tags": []
   },
   "source": [
    "### Defining the Model's architecture "
   ]
  },
  {
   "cell_type": "code",
   "execution_count": 9,
   "id": "9292c436",
   "metadata": {
    "execution": {
     "iopub.execute_input": "2021-09-11T14:25:50.732533Z",
     "iopub.status.busy": "2021-09-11T14:25:50.731956Z",
     "iopub.status.idle": "2021-09-11T14:25:52.761282Z",
     "shell.execute_reply": "2021-09-11T14:25:52.761955Z",
     "shell.execute_reply.started": "2021-09-11T14:00:08.454241Z"
    },
    "papermill": {
     "duration": 2.058836,
     "end_time": "2021-09-11T14:25:52.762170",
     "exception": false,
     "start_time": "2021-09-11T14:25:50.703334",
     "status": "completed"
    },
    "tags": []
   },
   "outputs": [
    {
     "name": "stdout",
     "output_type": "stream",
     "text": [
      "Model: \"model\"\n",
      "_________________________________________________________________\n",
      "Layer (type)                 Output Shape              Param #   \n",
      "=================================================================\n",
      "input_1 (InputLayer)         [(None, 2548, 1)]         0         \n",
      "_________________________________________________________________\n",
      "gru (GRU)                    (None, 2548, 256)         198144    \n",
      "_________________________________________________________________\n",
      "flatten (Flatten)            (None, 652288)            0         \n",
      "_________________________________________________________________\n",
      "dense (Dense)                (None, 3)                 1956867   \n",
      "=================================================================\n",
      "Total params: 2,155,011\n",
      "Trainable params: 2,155,011\n",
      "Non-trainable params: 0\n",
      "_________________________________________________________________\n"
     ]
    }
   ],
   "source": [
    "inputs = tf.keras.Input(shape=(X_train.shape[1],1))\n",
    "\n",
    "gru = tf.keras.layers.GRU(256, return_sequences=True)(inputs)\n",
    "flat = Flatten()(gru)\n",
    "outputs = Dense(3, activation='softmax')(flat)\n",
    "\n",
    "model = tf.keras.Model(inputs, outputs)\n",
    "\n",
    "model.summary()"
   ]
  },
  {
   "cell_type": "markdown",
   "id": "aac6b69e",
   "metadata": {
    "papermill": {
     "duration": 0.026308,
     "end_time": "2021-09-11T14:25:52.813612",
     "exception": false,
     "start_time": "2021-09-11T14:25:52.787304",
     "status": "completed"
    },
    "tags": []
   },
   "source": [
    "### Plotting the model "
   ]
  },
  {
   "cell_type": "code",
   "execution_count": 10,
   "id": "f03a6da8",
   "metadata": {
    "execution": {
     "iopub.execute_input": "2021-09-11T14:25:52.867857Z",
     "iopub.status.busy": "2021-09-11T14:25:52.867035Z",
     "iopub.status.idle": "2021-09-11T14:25:53.225976Z",
     "shell.execute_reply": "2021-09-11T14:25:53.225141Z",
     "shell.execute_reply.started": "2021-09-11T14:00:10.491556Z"
    },
    "papermill": {
     "duration": 0.388161,
     "end_time": "2021-09-11T14:25:53.226141",
     "exception": false,
     "start_time": "2021-09-11T14:25:52.837980",
     "status": "completed"
    },
    "tags": []
   },
   "outputs": [
    {
     "data": {
      "image/png": "[encoded data removed]",
      "text/plain": [
       "<IPython.core.display.Image object>"
      ]
     },
     "execution_count": 10,
     "metadata": {},
     "output_type": "execute_result"
    }
   ],
   "source": [
    "tf.keras.utils.plot_model(model)"
   ]
  },
  {
   "cell_type": "markdown",
   "id": "27ffd495",
   "metadata": {
    "papermill": {
     "duration": 0.024464,
     "end_time": "2021-09-11T14:25:53.276095",
     "exception": false,
     "start_time": "2021-09-11T14:25:53.251631",
     "status": "completed"
    },
    "tags": []
   },
   "source": [
    "### Training the model. "
   ]
  },
  {
   "cell_type": "markdown",
   "id": "c059125b",
   "metadata": {
    "papermill": {
     "duration": 0.024472,
     "end_time": "2021-09-11T14:25:53.325073",
     "exception": false,
     "start_time": "2021-09-11T14:25:53.300601",
     "status": "completed"
    },
    "tags": []
   },
   "source": [
    "The loss function used will be 'Categorical_CrossEntropy'. We will be using callback functions like Early_Stopping to avoid overfitting and lr_scheduler to change the learning rate while model trains.\n",
    "\n",
    "We will be training for 100 epochs starting with learning_rate = 0.001 and batch_size = 64."
   ]
  },
  {
   "cell_type": "code",
   "execution_count": 11,
   "id": "c6c93546",
   "metadata": {
    "execution": {
     "iopub.execute_input": "2021-09-11T14:25:53.382571Z",
     "iopub.status.busy": "2021-09-11T14:25:53.381823Z",
     "iopub.status.idle": "2021-09-11T14:25:53.383965Z",
     "shell.execute_reply": "2021-09-11T14:25:53.384395Z",
     "shell.execute_reply.started": "2021-09-11T14:00:10.842420Z"
    },
    "papermill": {
     "duration": 0.034996,
     "end_time": "2021-09-11T14:25:53.384520",
     "exception": false,
     "start_time": "2021-09-11T14:25:53.349524",
     "status": "completed"
    },
    "tags": []
   },
   "outputs": [],
   "source": [
    "def train_model(model,x_train, y_train,x_test,y_test, save_to, epoch = 2):\n",
    "\n",
    "        opt_adam = keras.optimizers.Adam(learning_rate=0.001)\n",
    "\n",
    "        es = EarlyStopping(monitor='val_loss', mode='min', verbose=1, patience=10)\n",
    "        mc = ModelCheckpoint(save_to + '_best_model.h5', monitor='val_accuracy', mode='max', verbose=1, save_best_only=True)\n",
    "        lr_schedule = tf.keras.callbacks.LearningRateScheduler(lambda epoch: 0.001 * np.exp(-epoch / 10.))\n",
    "        \n",
    "        model.compile(optimizer=opt_adam,\n",
    "                  loss=['categorical_crossentropy'],\n",
    "                  metrics=['accuracy'])\n",
    "        \n",
    "        history = model.fit(x_train,y_train,\n",
    "                        batch_size=32,\n",
    "                        epochs=epoch,\n",
    "                        validation_data=(x_test,y_test),\n",
    "                        callbacks=[es,mc,lr_schedule])\n",
    "        \n",
    "        saved_model = load_model(save_to + '_best_model.h5')\n",
    "        \n",
    "        return model,history"
   ]
  },
  {
   "cell_type": "code",
   "execution_count": 12,
   "id": "75e966f2",
   "metadata": {
    "execution": {
     "iopub.execute_input": "2021-09-11T14:25:53.445686Z",
     "iopub.status.busy": "2021-09-11T14:25:53.444913Z",
     "iopub.status.idle": "2021-09-11T16:01:28.904887Z",
     "shell.execute_reply": "2021-09-11T16:01:28.905287Z",
     "shell.execute_reply.started": "2021-09-11T14:00:10.852444Z"
    },
    "papermill": {
     "duration": 5735.496491,
     "end_time": "2021-09-11T16:01:28.905458",
     "exception": false,
     "start_time": "2021-09-11T14:25:53.408967",
     "status": "completed"
    },
    "tags": []
   },
   "outputs": [
    {
     "name": "stdout",
     "output_type": "stream",
     "text": [
      "Epoch 1/40\n",
      "47/47 [==============================] - 362s 8s/step - loss: 80.5641 - accuracy: 0.6353 - val_loss: 6.7063 - val_accuracy: 0.9219\n",
      "\n",
      "Epoch 00001: val_accuracy improved from -inf to 0.92188, saving model to ./_best_model.h5\n",
      "Epoch 2/40\n",
      "47/47 [==============================] - 359s 8s/step - loss: 10.7318 - accuracy: 0.8962 - val_loss: 2.4050 - val_accuracy: 0.9438\n",
      "\n",
      "Epoch 00002: val_accuracy improved from 0.92188 to 0.94375, saving model to ./_best_model.h5\n",
      "Epoch 3/40\n",
      "47/47 [==============================] - 358s 8s/step - loss: 4.2519 - accuracy: 0.9277 - val_loss: 1.2607 - val_accuracy: 0.9672\n",
      "\n",
      "Epoch 00003: val_accuracy improved from 0.94375 to 0.96719, saving model to ./_best_model.h5\n",
      "Epoch 4/40\n",
      "47/47 [==============================] - 357s 8s/step - loss: 0.7786 - accuracy: 0.9740 - val_loss: 0.9202 - val_accuracy: 0.9766\n",
      "\n",
      "Epoch 00004: val_accuracy improved from 0.96719 to 0.97656, saving model to ./_best_model.h5\n",
      "Epoch 5/40\n",
      "47/47 [==============================] - 355s 8s/step - loss: 0.7563 - accuracy: 0.9809 - val_loss: 1.1277 - val_accuracy: 0.9750\n",
      "\n",
      "Epoch 00005: val_accuracy did not improve from 0.97656\n",
      "Epoch 6/40\n",
      "47/47 [==============================] - 356s 8s/step - loss: 0.4221 - accuracy: 0.9827 - val_loss: 0.8598 - val_accuracy: 0.9812\n",
      "\n",
      "Epoch 00006: val_accuracy improved from 0.97656 to 0.98125, saving model to ./_best_model.h5\n",
      "Epoch 7/40\n",
      "47/47 [==============================] - 356s 8s/step - loss: 6.8168e-07 - accuracy: 1.0000 - val_loss: 0.9432 - val_accuracy: 0.9812\n",
      "\n",
      "Epoch 00007: val_accuracy did not improve from 0.98125\n",
      "Epoch 8/40\n",
      "47/47 [==============================] - 356s 8s/step - loss: 3.5806e-06 - accuracy: 1.0000 - val_loss: 0.9317 - val_accuracy: 0.9812\n",
      "\n",
      "Epoch 00008: val_accuracy did not improve from 0.98125\n",
      "Epoch 9/40\n",
      "47/47 [==============================] - 359s 8s/step - loss: 3.2798e-07 - accuracy: 1.0000 - val_loss: 0.9281 - val_accuracy: 0.9812\n",
      "\n",
      "Epoch 00009: val_accuracy did not improve from 0.98125\n",
      "Epoch 10/40\n",
      "47/47 [==============================] - 359s 8s/step - loss: 1.0577e-06 - accuracy: 1.0000 - val_loss: 0.9258 - val_accuracy: 0.9812\n",
      "\n",
      "Epoch 00010: val_accuracy did not improve from 0.98125\n",
      "Epoch 11/40\n",
      "47/47 [==============================] - 359s 8s/step - loss: 2.4733e-07 - accuracy: 1.0000 - val_loss: 0.9252 - val_accuracy: 0.9812\n",
      "\n",
      "Epoch 00011: val_accuracy did not improve from 0.98125\n",
      "Epoch 12/40\n",
      "47/47 [==============================] - 359s 8s/step - loss: 1.2514e-06 - accuracy: 1.0000 - val_loss: 0.9234 - val_accuracy: 0.9812\n",
      "\n",
      "Epoch 00012: val_accuracy did not improve from 0.98125\n",
      "Epoch 13/40\n",
      "47/47 [==============================] - 358s 8s/step - loss: 3.2884e-07 - accuracy: 1.0000 - val_loss: 0.9227 - val_accuracy: 0.9812\n",
      "\n",
      "Epoch 00013: val_accuracy did not improve from 0.98125\n",
      "Epoch 14/40\n",
      "47/47 [==============================] - 359s 8s/step - loss: 6.4308e-07 - accuracy: 1.0000 - val_loss: 0.9221 - val_accuracy: 0.9812\n",
      "\n",
      "Epoch 00014: val_accuracy did not improve from 0.98125\n",
      "Epoch 15/40\n",
      "47/47 [==============================] - 360s 8s/step - loss: 7.2962e-07 - accuracy: 1.0000 - val_loss: 0.9216 - val_accuracy: 0.9812\n",
      "\n",
      "Epoch 00015: val_accuracy did not improve from 0.98125\n",
      "Epoch 16/40\n",
      "47/47 [==============================] - 361s 8s/step - loss: 2.1239e-07 - accuracy: 1.0000 - val_loss: 0.9212 - val_accuracy: 0.9812\n",
      "\n",
      "Epoch 00016: val_accuracy did not improve from 0.98125\n",
      "Epoch 00016: early stopping\n"
     ]
    }
   ],
   "source": [
    "model,history = train_model(model, X_train, y_train,X_test, y_test, save_to= './', epoch = 40) "
   ]
  },
  {
   "cell_type": "markdown",
   "id": "3497a2cd",
   "metadata": {
    "papermill": {
     "duration": 0.224025,
     "end_time": "2021-09-11T16:01:29.354447",
     "exception": false,
     "start_time": "2021-09-11T16:01:29.130422",
     "status": "completed"
    },
    "tags": []
   },
   "source": [
    "### Plotting the validation curves "
   ]
  },
  {
   "cell_type": "code",
   "execution_count": 13,
   "id": "c25b13d7",
   "metadata": {
    "execution": {
     "iopub.execute_input": "2021-09-11T16:01:29.813312Z",
     "iopub.status.busy": "2021-09-11T16:01:29.812475Z",
     "iopub.status.idle": "2021-09-11T16:01:30.260256Z",
     "shell.execute_reply": "2021-09-11T16:01:30.260673Z",
     "shell.execute_reply.started": "2021-09-11T14:06:18.196759Z"
    },
    "papermill": {
     "duration": 0.683323,
     "end_time": "2021-09-11T16:01:30.260817",
     "exception": false,
     "start_time": "2021-09-11T16:01:29.577494",
     "status": "completed"
    },
    "tags": []
   },
   "outputs": [
    {
     "data": {
      "image/png": "[encoded data removed]",
      "text/plain": [
       "<Figure size 432x288 with 1 Axes>"
      ]
     },
     "metadata": {
      "needs_background": "light"
     },
     "output_type": "display_data"
    },
    {
     "data": {
      "image/png": "[encoded data removed]",
      "text/plain": [
       "<Figure size 432x288 with 1 Axes>"
      ]
     },
     "metadata": {
      "needs_background": "light"
     },
     "output_type": "display_data"
    }
   ],
   "source": [
    "plt.plot(history.history['accuracy'])\n",
    "plt.plot(history.history['val_accuracy'])\n",
    "plt.title('model accuracy')\n",
    "plt.ylabel('accuracy')\n",
    "plt.xlabel('epoch')\n",
    "plt.legend(['train', 'test'], loc='upper left')\n",
    "plt.show()\n",
    "# summarize history for loss\n",
    "plt.plot(history.history['loss'])\n",
    "plt.plot(history.history['val_loss'])\n",
    "plt.title('model loss')\n",
    "plt.ylabel('loss')\n",
    "plt.xlabel('epoch')\n",
    "plt.legend(['train', 'test'], loc='upper left')\n",
    "plt.show()"
   ]
  },
  {
   "cell_type": "markdown",
   "id": "a191b51b",
   "metadata": {
    "papermill": {
     "duration": 0.227698,
     "end_time": "2021-09-11T16:01:30.716231",
     "exception": false,
     "start_time": "2021-09-11T16:01:30.488533",
     "status": "completed"
    },
    "tags": []
   },
   "source": [
    "### Evaluating the model "
   ]
  },
  {
   "cell_type": "markdown",
   "id": "0e5e72cd",
   "metadata": {
    "papermill": {
     "duration": 0.225819,
     "end_time": "2021-09-11T16:01:31.167466",
     "exception": false,
     "start_time": "2021-09-11T16:01:30.941647",
     "status": "completed"
    },
    "tags": []
   },
   "source": [
    "1. Test accuracy"
   ]
  },
  {
   "cell_type": "code",
   "execution_count": 14,
   "id": "921222b5",
   "metadata": {
    "execution": {
     "iopub.execute_input": "2021-09-11T16:01:31.628334Z",
     "iopub.status.busy": "2021-09-11T16:01:31.627667Z",
     "iopub.status.idle": "2021-09-11T16:01:42.259336Z",
     "shell.execute_reply": "2021-09-11T16:01:42.258746Z",
     "shell.execute_reply.started": "2021-09-11T14:06:18.642126Z"
    },
    "papermill": {
     "duration": 10.862104,
     "end_time": "2021-09-11T16:01:42.259487",
     "exception": false,
     "start_time": "2021-09-11T16:01:31.397383",
     "status": "completed"
    },
    "tags": []
   },
   "outputs": [
    {
     "name": "stdout",
     "output_type": "stream",
     "text": [
      "Test Accuracy: 98.125%\n"
     ]
    }
   ],
   "source": [
    "model_acc = model.evaluate(X_test, y_test, verbose=0)[1]\n",
    "print(\"Test Accuracy: {:.3f}%\".format(model_acc * 100))"
   ]
  },
  {
   "cell_type": "markdown",
   "id": "f429af5d",
   "metadata": {
    "papermill": {
     "duration": 0.230244,
     "end_time": "2021-09-11T16:01:42.726760",
     "exception": false,
     "start_time": "2021-09-11T16:01:42.496516",
     "status": "completed"
    },
    "tags": []
   },
   "source": [
    "2. Confusion matrix along with classification reports (includes metrics like precision, F1-score)"
   ]
  },
  {
   "cell_type": "code",
   "execution_count": 15,
   "id": "6d939b64",
   "metadata": {
    "execution": {
     "iopub.execute_input": "2021-09-11T16:01:43.194800Z",
     "iopub.status.busy": "2021-09-11T16:01:43.193883Z",
     "iopub.status.idle": "2021-09-11T16:01:54.038700Z",
     "shell.execute_reply": "2021-09-11T16:01:54.039367Z",
     "shell.execute_reply.started": "2021-09-11T14:23:36.496299Z"
    },
    "papermill": {
     "duration": 11.081837,
     "end_time": "2021-09-11T16:01:54.039594",
     "exception": false,
     "start_time": "2021-09-11T16:01:42.957757",
     "status": "completed"
    },
    "tags": []
   },
   "outputs": [
    {
     "data": {
      "image/png": "[encoded data removed]",
      "text/plain": [
       "<Figure size 576x576 with 1 Axes>"
      ]
     },
     "metadata": {
      "needs_background": "light"
     },
     "output_type": "display_data"
    },
    {
     "name": "stdout",
     "output_type": "stream",
     "text": [
      "Classification Report:\n",
      "----------------------\n",
      "               precision    recall  f1-score   support\n",
      "\n",
      "           0       0.96      0.99      0.98       205\n",
      "           1       1.00      0.99      1.00       224\n",
      "           2       0.98      0.96      0.97       211\n",
      "\n",
      "    accuracy                           0.98       640\n",
      "   macro avg       0.98      0.98      0.98       640\n",
      "weighted avg       0.98      0.98      0.98       640\n",
      "\n"
     ]
    }
   ],
   "source": [
    "y_pred = np.array(list(map(lambda x: np.argmax(x), model.predict(X_test))))\n",
    "y_test = y_test.idxmax(axis=1)\n",
    "\n",
    "cm = confusion_matrix(y_test, y_pred)\n",
    "clr = classification_report(y_test, y_pred)\n",
    "\n",
    "plt.figure(figsize=(8, 8))\n",
    "sns.heatmap(cm, annot=True, vmin=0, fmt='g', cbar=False, cmap='Blues')\n",
    "plt.xlabel(\"Predicted\")\n",
    "plt.ylabel(\"Actual\")\n",
    "plt.title(\"Confusion Matrix\")\n",
    "plt.show()\n",
    "\n",
    "print(\"Classification Report:\\n----------------------\\n\", clr)"
   ]
  },
  {
   "cell_type": "markdown",
   "id": "1789aba6",
   "metadata": {
    "papermill": {
     "duration": 0.225191,
     "end_time": "2021-09-11T16:01:54.496927",
     "exception": false,
     "start_time": "2021-09-11T16:01:54.271736",
     "status": "completed"
    },
    "tags": []
   },
   "source": [
    "## Please upvote if you found it useful :) "
   ]
  },
  {
   "cell_type": "code",
   "execution_count": null,
   "id": "624b8d8d",
   "metadata": {
    "papermill": {
     "duration": 0.224868,
     "end_time": "2021-09-11T16:01:54.947407",
     "exception": false,
     "start_time": "2021-09-11T16:01:54.722539",
     "status": "completed"
    },
    "tags": []
   },
   "outputs": [],
   "source": []
  },
  {
   "cell_type": "code",
   "execution_count": null,
   "id": "b1a5db80",
   "metadata": {
    "papermill": {
     "duration": 0.223755,
     "end_time": "2021-09-11T16:01:55.395551",
     "exception": false,
     "start_time": "2021-09-11T16:01:55.171796",
     "status": "completed"
    },
    "tags": []
   },
   "outputs": [],
   "source": []
  }
 ],
 "metadata": {
  "kernelspec": {
   "display_name": "Python 3 (ipykernel)",
   "language": "python",
   "name": "python3"
  },
  "language_info": {
   "codemirror_mode": {
    "name": "ipython",
    "version": 3
   },
   "file_extension": ".py",
   "mimetype": "text/x-python",
   "name": "python",
   "nbconvert_exporter": "python",
   "pygments_lexer": "ipython3",
   "version": "3.9.12"
  },
  "papermill": {
   "default_parameters": {},
   "duration": 5782.408461,
   "end_time": "2021-09-11T16:01:57.653116",
   "environment_variables": {},
   "exception": null,
   "input_path": "__notebook__.ipynb",
   "output_path": "__notebook__.ipynb",
   "parameters": {},
   "start_time": "2021-09-11T14:25:35.244655",
   "version": "2.3.3"
  }
 },
 "nbformat": 4,
 "nbformat_minor": 5
}
